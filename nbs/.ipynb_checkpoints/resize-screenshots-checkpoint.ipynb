{
 "cells": [
  {
   "cell_type": "markdown",
   "id": "d42c2221-9a0c-4984-8657-c47b129f5d05",
   "metadata": {},
   "source": [
    "# Resize Nested Images with Pillow"
   ]
  },
  {
   "cell_type": "markdown",
   "id": "de4897c6-78b5-4943-b28b-b9ce999dd150",
   "metadata": {},
   "source": [
    "Here's a Python script that uses the **Pillow** library to find all `.png` images in a directory and its subfolders, then resizes them while maintaining their aspect ratio.\n",
    "\n",
    "This script is **non-destructive**. It saves the resized images to a *new* output directory, preserving the original folder structure.\n",
    "\n",
    "### Python Script (`resize_images.py`)\n"
   ]
  },
  {
   "cell_type": "code",
   "execution_count": 1,
   "id": "c2380869-ff0e-4daf-b068-64ff860c00cf",
   "metadata": {},
   "outputs": [],
   "source": [
    "import os\n",
    "import argparse\n",
    "from PIL import Image\n",
    "\n",
    "# A good width for GitHub READMEs is around 800px\n",
    "DEFAULT_MAX_WIDTH = 800\n",
    "\n",
    "def resize_images_in_directory(input_dir, output_dir, max_width):\n",
    "    \"\"\"\n",
    "    Recursively finds all .png images in input_dir, resizes them if they\n",
    "    are wider than max_width (maintaining aspect ratio), and saves\n",
    "    them to output_dir, preserving the folder structure.\n",
    "    \"\"\"\n",
    "    \n",
    "    print(f\"Scanning '{input_dir}'...\")\n",
    "    print(f\"Saving resized images to '{output_dir}' with max-width={max_width}px.\")\n",
    "    \n",
    "    processed_count = 0\n",
    "    \n",
    "    # Walk through the directory tree\n",
    "    for dirpath, dirnames, filenames in os.walk(input_dir):\n",
    "        for filename in filenames:\n",
    "            if filename.lower().endswith('.png'):\n",
    "                original_image_path = os.path.join(dirpath, filename)\n",
    "                \n",
    "                try:\n",
    "                    # Open the original image\n",
    "                    img = Image.open(original_image_path)\n",
    "                    width, height = img.size\n",
    "                    \n",
    "                    img_to_save = img\n",
    "                    action_taken = \"Copied (already small)\"\n",
    "\n",
    "                    # Check if resizing is needed\n",
    "                    if width > max_width:\n",
    "                        # Calculate new height to maintain aspect ratio\n",
    "                        ratio = max_width / float(width)\n",
    "                        new_height = int(float(height) * ratio)\n",
    "                        \n",
    "                        # Resize the image using a high-quality filter\n",
    "                        img_to_save = img.resize((max_width, new_height), Image.Resampling.LANCZOS)\n",
    "                        action_taken = f\"Resized from {width}px to {max_width}px wide\"\n",
    "\n",
    "                    # --- Determine the output path ---\n",
    "                    \n",
    "                    # Get the relative path of the file from the input_dir root\n",
    "                    # e.g., \"screenshots/feature1\"\n",
    "                    relative_path = os.path.relpath(dirpath, input_dir)\n",
    "                    \n",
    "                    # Create the equivalent directory structure in the output_dir\n",
    "                    # e.g., \"resized_images/screenshots/feature1\"\n",
    "                    new_output_dir = os.path.join(output_dir, relative_path)\n",
    "                    os.makedirs(new_output_dir, exist_ok=True)\n",
    "                    \n",
    "                    # Create the final new image path\n",
    "                    new_image_path = os.path.join(new_output_dir, filename)\n",
    "                    \n",
    "                    # Save the new image (or the original if no resize was needed)\n",
    "                    # optimize=True attempts to reduce PNG file size\n",
    "                    img_to_save.save(new_image_path, 'PNG', optimize=True)\n",
    "                    \n",
    "                    print(f\"  - Processed: {original_image_path} -> {action_taken}\")\n",
    "                    processed_count += 1\n",
    "\n",
    "                except (IOError, OSError) as e:\n",
    "                    print(f\"  - [ERROR] Could not process {original_image_path}: {e}\")\n",
    "\n",
    "    print(f\"\\nDone. Processed {processed_count} images.\")\n",
    "\n",
    "'''\n",
    "if __name__ == \"__main__\":\n",
    "    parser = argparse.ArgumentParser(\n",
    "        description=\"Recursively resize PNG images for GitHub READMEs.\",\n",
    "        formatter_class=argparse.RawTextHelpFormatter\n",
    "    )\n",
    "    \n",
    "    parser.add_argument(\n",
    "        \"input_dir\",\n",
    "        help=\"The root directory to scan for PNG images.\"\n",
    "    )\n",
    "    parser.add_argument(\n",
    "        \"output_dir\",\n",
    "        help=\"The directory where resized images will be saved (maintaining folder structure).\"\n",
    "    )\n",
    "    parser.add_argument(\n",
    "        \"-w\", \"--width\",\n",
    "        type=int,\n",
    "        default=DEFAULT_MAX_WIDTH,\n",
    "        help=f\"The maximum width for the images (in pixels). Default: {DEFAULT_MAX_WIDTH}\"\n",
    "    )\n",
    "    \n",
    "    args = parser.parse_args()\n",
    "    \n",
    "    if not os.path.isdir(args.input_dir):\n",
    "        print(f\"Error: Input directory not found: {args.input_dir}\")\n",
    "        exit(1)\n",
    "            \n",
    "    resize_images_in_directory(args.input_dir, args.output_dir, args.width)\n",
    "''';"
   ]
  },
  {
   "cell_type": "markdown",
   "id": "aea603e9-5491-4f66-bd62-a09695a722a9",
   "metadata": {},
   "source": [
    "-----\n",
    "\n",
    "### How to Use the Script\n",
    "\n",
    "1.  **Install the Prerequisite (Pillow):**\n",
    "    If you don't have the Pillow library installed, open your terminal and run:"
   ]
  },
  {
   "cell_type": "code",
   "execution_count": 1,
   "id": "bb5e3849-94c1-4634-b5fc-733c5bbe3f13",
   "metadata": {},
   "outputs": [
    {
     "name": "stdout",
     "output_type": "stream",
     "text": [
      "Requirement already satisfied: Pillow in /home/luisresende/work/envs/jupyter/lib/python3.10/site-packages (11.2.1)\n",
      "\n",
      "\u001b[1m[\u001b[0m\u001b[34;49mnotice\u001b[0m\u001b[1;39;49m]\u001b[0m\u001b[39;49m A new release of pip is available: \u001b[0m\u001b[31;49m23.0.1\u001b[0m\u001b[39;49m -> \u001b[0m\u001b[32;49m25.3\u001b[0m\n",
      "\u001b[1m[\u001b[0m\u001b[34;49mnotice\u001b[0m\u001b[1;39;49m]\u001b[0m\u001b[39;49m To update, run: \u001b[0m\u001b[32;49mpip install --upgrade pip\u001b[0m\n"
     ]
    }
   ],
   "source": [
    "!pip install Pillow"
   ]
  },
  {
   "cell_type": "markdown",
   "id": "60fc90be-133e-48a9-929f-9ff7b6e08d1f",
   "metadata": {},
   "source": [
    "2.  **Save the Script:**\n",
    "    Save the code above as a file named `resize_images.py`.\n",
    "\n",
    "3.  **Run the Script:**\n",
    "    Open your terminal and run the script, providing the **input directory** (where your images are) and the **output directory** (where you want the resized images to go).\n",
    "\n",
    "    **Example:**\n",
    "    Let's say your original images are in a folder named `my-project/images` and you want to save the resized versions to `my-project/images_resized`."
   ]
  },
  {
   "cell_type": "code",
   "execution_count": null,
   "id": "2a12f865-192d-4349-a694-8e98100f5079",
   "metadata": {},
   "outputs": [],
   "source": [
    "# Format: python resize_images.py <input_directory> <output_directory>\n",
    "\n",
    "python resize_images.py \"my-project/images\" \"my-project/images_resized\""
   ]
  },
  {
   "cell_type": "markdown",
   "id": "e08e61b3-f5e6-43af-8224-27a40660d6a9",
   "metadata": {},
   "source": [
    "**To specify a different width (e.g., 600px):**"
   ]
  },
  {
   "cell_type": "code",
   "execution_count": null,
   "id": "f43151c8-8c48-4473-9f54-251daf1b11a9",
   "metadata": {},
   "outputs": [],
   "source": [
    "python resize_images.py \"my-project/images\" \"my-project/images_resized\" --width 600"
   ]
  },
  {
   "cell_type": "markdown",
   "id": "e6450347-2f1a-4313-9bf1-d028257f3457",
   "metadata": {},
   "source": [
    "### Run the script in Jupyter Notebook"
   ]
  },
  {
   "cell_type": "code",
   "execution_count": 2,
   "id": "5ec7e759-a95a-4392-9ea8-95330150f9ab",
   "metadata": {},
   "outputs": [
    {
     "ename": "TypeError",
     "evalue": "resize_images_in_directory() got an unexpected keyword argument 'width'",
     "output_type": "error",
     "traceback": [
      "\u001b[0;31m---------------------------------------------------------------------------\u001b[0m",
      "\u001b[0;31mTypeError\u001b[0m                                 Traceback (most recent call last)",
      "Cell \u001b[0;32mIn[2], line 1\u001b[0m\n\u001b[0;32m----> 1\u001b[0m \u001b[43mresize_images_in_directory\u001b[49m\u001b[43m(\u001b[49m\n\u001b[1;32m      2\u001b[0m \u001b[43m    \u001b[49m\u001b[38;5;124;43m'\u001b[39;49m\u001b[38;5;124;43m../screenshots/png\u001b[39;49m\u001b[38;5;124;43m'\u001b[39;49m\u001b[43m,\u001b[49m\n\u001b[1;32m      3\u001b[0m \u001b[43m    \u001b[49m\u001b[38;5;124;43m'\u001b[39;49m\u001b[38;5;124;43m../screenshots/png-small\u001b[39;49m\u001b[38;5;124;43m'\u001b[39;49m\u001b[43m,\u001b[49m\n\u001b[1;32m      4\u001b[0m \u001b[43m    \u001b[49m\u001b[43mwidth\u001b[49m\u001b[38;5;241;43m=\u001b[39;49m\u001b[38;5;241;43m400\u001b[39;49m\n\u001b[1;32m      5\u001b[0m \u001b[43m)\u001b[49m\n",
      "\u001b[0;31mTypeError\u001b[0m: resize_images_in_directory() got an unexpected keyword argument 'width'"
     ]
    }
   ],
   "source": [
    "resize_images_in_directory(\n",
    "    '../screenshots/png',\n",
    "    '../screenshots/png-small',\n",
    "    width=400\n",
    ")"
   ]
  },
  {
   "cell_type": "markdown",
   "id": "a2d17e8d-00cf-466b-94e2-3904d7b10c24",
   "metadata": {},
   "source": [
    "-----\n",
    "\n",
    "### Key Features of this Script\n",
    "\n",
    "  * **Recursive:** It uses `os.walk()` to search through all subfolders.\n",
    "  * **Non-Destructive:** It **never** modifies your original files. It saves new, resized copies to a separate directory.\n",
    "  * **Preserves Structure:** If you have `input/screenshots/button.png`, it will create `output/screenshots/button.png`.\n",
    "  * **Maintains Aspect Ratio:** It only sets the width and calculates the height automatically, so your images won't be stretched or squashed.\n",
    "  * **Efficient:** It only resizes images that are *wider* than the maximum width. Smaller images are simply copied over.\n",
    "  * **High Quality:** It uses `Image.Resampling.LANCZOS`, which is a high-quality filter for downscaling images.\n",
    "  * **Optimized:** It saves the new PNGs with the `optimize=True` flag, which can help reduce the file size."
   ]
  }
 ],
 "metadata": {
  "kernelspec": {
   "display_name": "Python 3 (ipykernel)",
   "language": "python",
   "name": "python3"
  },
  "language_info": {
   "codemirror_mode": {
    "name": "ipython",
    "version": 3
   },
   "file_extension": ".py",
   "mimetype": "text/x-python",
   "name": "python",
   "nbconvert_exporter": "python",
   "pygments_lexer": "ipython3",
   "version": "3.10.18"
  }
 },
 "nbformat": 4,
 "nbformat_minor": 5
}
